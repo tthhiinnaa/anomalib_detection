{
 "cells": [
  {
   "cell_type": "code",
   "execution_count": 5,
   "id": "initial_id",
   "metadata": {
    "ExecuteTime": {
     "end_time": "2023-10-03T07:38:36.707067900Z",
     "start_time": "2023-10-03T07:38:35.550047300Z"
    },
    "collapsed": true
   },
   "outputs": [
    {
     "ename": "error",
     "evalue": "OpenCV(4.8.1) D:\\a\\opencv-python\\opencv-python\\opencv\\modules\\core\\src\\arithm.cpp:230: error: (-215:Assertion failed) (mtype == CV_8U || mtype == CV_8S) && _mask.sameSize(*psrc1) in function 'cv::binary_op'\n",
     "output_type": "error",
     "traceback": [
      "\u001b[1;31m---------------------------------------------------------------------------\u001b[0m",
      "\u001b[1;31merror\u001b[0m                                     Traceback (most recent call last)",
      "Cell \u001b[1;32mIn[5], line 22\u001b[0m\n\u001b[0;32m     19\u001b[0m mask \u001b[38;5;241m=\u001b[39m cv\u001b[38;5;241m.\u001b[39minRange(img_mask, lower_blue, upper_blue)\n\u001b[0;32m     21\u001b[0m \u001b[38;5;66;03m# Bitwise-AND mask and original image\u001b[39;00m\n\u001b[1;32m---> 22\u001b[0m res \u001b[38;5;241m=\u001b[39m cv\u001b[38;5;241m.\u001b[39mbitwise_and(img, img, mask\u001b[38;5;241m=\u001b[39mmask)\n\u001b[0;32m     24\u001b[0m plt\u001b[38;5;241m.\u001b[39mimshow(cv\u001b[38;5;241m.\u001b[39mcvtColor(img, cv\u001b[38;5;241m.\u001b[39mCOLOR_BGR2RGB))\n\u001b[0;32m     25\u001b[0m plt\u001b[38;5;241m.\u001b[39mshow()\n",
      "\u001b[1;31merror\u001b[0m: OpenCV(4.8.1) D:\\a\\opencv-python\\opencv-python\\opencv\\modules\\core\\src\\arithm.cpp:230: error: (-215:Assertion failed) (mtype == CV_8U || mtype == CV_8S) && _mask.sameSize(*psrc1) in function 'cv::binary_op'\n"
     ]
    }
   ],
   "source": [
    "import os\n",
    "import cv2 as cv\n",
    "import numpy as np\n",
    "from  matplotlib import pyplot as plt\n",
    "%matplotlib inline\n",
    "\n",
    "img_path = 'defect_images_sum//defect_0000.png'\n",
    "img = cv.imread(img_path)\n",
    "img_path_mask = 'defect_masks_sum//defect_0000.png'\n",
    "img_mask = cv.imread((img_path_mask))\n",
    "# Convert BGR to HSV\n",
    "#hsv = cv.cvtColor(img, cv.COLOR_BGR2HSV)\n",
    "\n",
    "# define range of blue color in HSV\n",
    "lower_blue = np.array([100,100,100])\n",
    "upper_blue = np.array([255,255,255])\n",
    "\n",
    "# Threshold the HSV image to get only blue colors\n",
    "mask = cv.inRange(img_mask, lower_blue, upper_blue)\n",
    "\n",
    "# Bitwise-AND mask and original image\n",
    "res = cv.bitwise_and(img, img, mask=mask)\n",
    "\n",
    "plt.imshow(cv.cvtColor(img, cv.COLOR_BGR2RGB))\n",
    "plt.show()\n",
    "plt.imshow(cv.cvtColor(mask, cv.COLOR_BGR2RGB))\n",
    "plt.show()\n",
    "plt.imshow(cv.cvtColor(res, cv.COLOR_BGR2RGB))\n",
    "plt.show()\n",
    "\n",
    "lower_white = np.array([99,99,99])\n",
    "upper_white = np.array([0,0,0])\n",
    "mask2 = cv.inRange(img_mask, lower_white, upper_white)\n",
    "plt.imshow(cv.cvtColor(mask2, cv.COLOR_BGR2RGB))\n",
    "plt.show()"
   ]
  },
  {
   "cell_type": "code",
   "execution_count": 10,
   "id": "f00e2b317a95b5d1",
   "metadata": {
    "ExecuteTime": {
     "end_time": "2023-10-04T05:18:16.617669600Z",
     "start_time": "2023-10-04T05:14:56.086667700Z"
    },
    "collapsed": false
   },
   "outputs": [
    {
     "name": "stdout",
     "output_type": "stream",
     "text": [
      "6790\n",
      "1000\n",
      "3000\n",
      "5000\n"
     ]
    }
   ],
   "source": [
    "import cv2\n",
    "import numpy as np\n",
    "import os\n",
    "now_path = os.getcwd()\n",
    "\n",
    "\n",
    "path_normal = '//normal_images//'\n",
    "file_list = os.listdir(now_path+path_normal)\n",
    "print(len(file_list))\n",
    "iters = len(file_list)\n",
    "for i, file_name in enumerate(file_list):\n",
    "    # 원본 이미지 로드\n",
    "    path_defect = '//defect_1004//'\n",
    "    original_image = cv2.imread(now_path+path_defect+'defect_'+str(i%180).zfill(4)+'.png')\n",
    "    \n",
    "    # 마스크 이미지 로드\n",
    "    path_mask = '//defect_1004_realmask//'\n",
    "    mask_image = cv2.imread(now_path+path_mask+'defect_'+str(i%180).zfill(4)+'.png', cv2.IMREAD_GRAYSCALE)  # 이진 이미지로 로드\n",
    "    # \n",
    "    # # 이진 마스크 생성 (0이 아닌 값은 1로 설정)\n",
    "    #binary_mask = (mask_image != 0)\n",
    "    # \n",
    "    # # 대체하려는 영역 선택\n",
    "    replacement_image = cv2.imread(now_path+path_normal+file_name)  # 대체할 이미지 로드\n",
    "    #replacement_image = cv2.resize(replacement_image, (mask_image.shape[1], mask_image.shape[0]))  # 크기 조정\n",
    "\n",
    "    # # 대체 영역 선택\n",
    "    # selected_region = cv2.bitwise_and(original_image, original_image, mask=binary_mask)\n",
    "    # \n",
    "    # 대체 이미지를 대체 영역으로 설정\n",
    "    result = original_image.copy()\n",
    "    result[mask_image == 0] = replacement_image[mask_image == 0]\n",
    "    # 결과 이미지 표시 또는 저장\n",
    "    cv2.imwrite('defect_1004_normal//'+'defect_'+str(i).zfill(4)+'.png', result)\n",
    "    if i == 1000 :\n",
    "        print(\"1000\")\n",
    "    elif i == 3000:\n",
    "        print(\"3000\")\n",
    "    elif i == 5000:\n",
    "        print(\"5000\")\n",
    "#cv2.imshow('Result', result)#\n",
    "\n",
    "#cv2.waitKey(0)\n",
    "#cv2.destroyAllWindows()\n"
   ]
  },
  {
   "cell_type": "code",
   "execution_count": null,
   "id": "fb7504b27ba4ab08",
   "metadata": {
    "collapsed": false
   },
   "outputs": [],
   "source": []
  },
  {
   "cell_type": "code",
   "execution_count": null,
   "id": "c4becd26eddd993a",
   "metadata": {
    "ExecuteTime": {
     "start_time": "2023-10-02T18:53:11.926449100Z"
    },
    "collapsed": false,
    "is_executing": true
   },
   "outputs": [
    {
     "name": "stdout",
     "output_type": "stream",
     "text": [
      "6790\n"
     ]
    },
    {
     "data": {
      "application/vnd.jupyter.widget-view+json": {
       "model_id": "298054c5089540169e1055007ebe9c4b",
       "version_major": 2,
       "version_minor": 0
      },
      "text/plain": [
       "  0%|          | 0/6790 [00:00<?, ?it/s]"
      ]
     },
     "metadata": {},
     "output_type": "display_data"
    }
   ],
   "source": [
    "#plt.show()\n",
    "import cv2\n",
    "import numpy as np\n",
    "import os\n",
    "import matplotlib as plt\n",
    "from tqdm.notebook import tqdm\n",
    "import time\n",
    "now_path = os.getcwd()\n",
    "\n",
    "path_normal = '//normal_images//'\n",
    "file_list = os.listdir(now_path + path_normal)\n",
    "print(len(file_list))\n",
    "iters = len(file_list)\n",
    "#30장 생성\n",
    "nums = 0\n",
    "for file_name in tqdm(file_list):\n",
    "    for i in range(30):\n",
    "        # 원본 이미지 로드\n",
    "        path_defect = '//defect_images//'\n",
    "        original_image = cv2.imread(now_path + path_defect + 'defect_' + str(i).zfill(4) + '.png')\n",
    "    \n",
    "        # 마스크 이미지 로드\n",
    "        path_mask = '//defect_reals//'\n",
    "        mask_image = cv2.imread(now_path + path_mask + 'defect_' + str(i).zfill(4) + '.png',\n",
    "                                cv2.IMREAD_GRAYSCALE)  # 이진 이미지로 로드\n",
    "    \n",
    "        # 이진 마스크 생성 (0이 아닌 값은 1로 설정)\n",
    "        binary_mask = (mask_image != 0).astype(np.uint8)\n",
    "    \n",
    "        # 대체하려는 영역 선택\n",
    "        replacement_image = cv2.imread(now_path + path_normal + file_name)  # 대체할 이미지 로드\n",
    "        replacement_image = cv2.resize(replacement_image, (binary_mask.shape[1], binary_mask.shape[0]))  # 크기 조정\n",
    "    \n",
    "        # 대체 영역 선택\n",
    "        selected_region = cv2.bitwise_and(original_image, original_image, mask=binary_mask)\n",
    "    \n",
    "        # 대체 이미지를 대체 영역으로 설정\n",
    "        result = original_image.copy()\n",
    "        result[binary_mask == 0] = replacement_image[binary_mask == 0]\n",
    "        # 결과 이미지 표시 또는 저장\n",
    "        cv2.imwrite('full_noise_images_sum//' + 'normal_' + str(i).zfill(2) +str(nums).zfill(6) +'.png', result)\n",
    "        nums += 1\n",
    "        \n",
    "file_list2 = os.listdir(now_path + '\\\\full_noise_images_sum\\\\')\n",
    "print(len(file_list2))"
   ]
  },
  {
   "cell_type": "code",
   "execution_count": null,
   "id": "b2857cc989f768ea",
   "metadata": {
    "collapsed": false,
    "is_executing": true
   },
   "outputs": [],
   "source": [
    "import os\n",
    "import shutil\n",
    "now_path = os.getcwd()\n",
    "\n",
    "# \n",
    "path_normal2 = '\\\\full_mask_images_sum\\\\'\n",
    "#file_list = os.listdir(now_path+path_normal2)\n",
    "# for i, file_name in enumerate(file_list):\n",
    "#     os.rename(now_path+path_normal2+file_name,now_path+path_normal2+ 'normal_' + str(i).zfill(2) +str(nums).zfill(6) +'.png')\n",
    "#     \n",
    "#     \n",
    "#now_path = os.getcwd()\n",
    "file_list1 = os.listdir(now_path+'\\\\defect_masks\\\\')\n",
    "print(file_list1)\n",
    "print(len(file_list1))\n",
    "sums = 0\n",
    "while sums <= 6790*30:\n",
    "    for i, file_name in enumerate(file_list1):\n",
    "        shutil.copyfile(now_path+'\\\\defect_masks\\\\'+file_name,now_path+path_normal2+ 'normal_' + str(i).zfill(2) +str(sums).zfill(6) +'.png')\n",
    "        sums+=1   "
   ]
  },
  {
   "cell_type": "code",
   "execution_count": null,
   "id": "9fa86996607fd685",
   "metadata": {
    "collapsed": false
   },
   "outputs": [],
   "source": [
    "img_path = os.getcwd()\n",
    "img_path1 = img_path + \"\\\\defect_images\\\\\"\n",
    "#img_path1 = img_path+\"\\\\defect_masks\\\\\"\n",
    "#img_path1 = img_path + \"\\\\defect_reals\\\\\"\n",
    "file_list = os.listdir(img_path1)\n",
    "ifolder = '\\\\defect_images\\\\'\n",
    "file_list2 = os.listdir(img_path + \"\\\\defect_masks\\\\\")\n",
    "file_list3 = os.listdir(img_path + \"\\\\defect_reals\\\\\")\n",
    "new_image_path = os.listdir(img_path +\"\\\\new_defect_images\\\\\")\n",
    "\n",
    "#pil_to_tensor(file_list[0])\n",
    "print(len(file_list))\n",
    "for file_name in file_list:\n",
    "    img_rgb = Image.open(img_path1+file_name).convert('RGB')\n",
    "    np_img = np.array(img_rgb)\n",
    "    #print(np_img.shape)\n",
    "    #img_tensor = pil_to_tensor(img_rgb)\n",
    "    #bit4img = tf.posterize(img_tensor,4)\n",
    "    #img_poster = tesor2save(bit4img, 6)\n",
    "\n",
    "    image1 = Image.open(img_path1+file_name)\n",
    "    transfoseImg(image1,img_path,file_name)"
   ]
  },
  {
   "cell_type": "code",
   "execution_count": 21,
   "id": "866a75b2d9ac671b",
   "metadata": {
    "ExecuteTime": {
     "end_time": "2023-10-02T09:47:10.942208100Z",
     "start_time": "2023-10-02T09:47:07.504745700Z"
    },
    "collapsed": false
   },
   "outputs": [],
   "source": [
    "import shutil\n",
    "import os\n",
    "now_path = os.getcwd()\n",
    "\n",
    "\n",
    "path_normal2 = '\\\\new_defect_images_sum\\\\'\n",
    "file_list = os.listdir(now_path+path_normal2)\n",
    "for i, file_name in enumerate(file_list):\n",
    "    os.rename(now_path+path_normal2+file_name,now_path+path_normal2+'normal_'+str(i).zfill(4)+'.png')\n"
   ]
  },
  {
   "cell_type": "code",
   "execution_count": 13,
   "id": "ae5734823d7a1714",
   "metadata": {
    "ExecuteTime": {
     "end_time": "2023-10-04T05:23:14.109574600Z",
     "start_time": "2023-10-04T05:23:08.653349700Z"
    },
    "collapsed": false
   },
   "outputs": [
    {
     "name": "stdout",
     "output_type": "stream",
     "text": [
      "180\n"
     ]
    }
   ],
   "source": [
    "import shutil\n",
    "file_list = os.listdir(now_path+'\\\\defect_1004_mask\\\\')\n",
    "print(len(file_list))\n",
    "sum = 0\n",
    "while sum <= 6790:\n",
    "    for i, file_name in enumerate(file_list):\n",
    "        shutil.copyfile(now_path+'\\\\defect_1004_mask\\\\'+file_name,now_path+'\\\\defect_1004_normal_masks\\\\'+'defect_'+str(i+sum).zfill(4)+'.png')\n",
    "    sum += 180    "
   ]
  },
  {
   "cell_type": "code",
   "execution_count": 14,
   "id": "ce45d009ec2d7938",
   "metadata": {
    "ExecuteTime": {
     "end_time": "2023-10-04T05:23:14.724765Z",
     "start_time": "2023-10-04T05:23:14.717783100Z"
    },
    "collapsed": false
   },
   "outputs": [
    {
     "name": "stdout",
     "output_type": "stream",
     "text": [
      "6840\n"
     ]
    }
   ],
   "source": [
    "file_list = os.listdir(now_path+'\\\\defect_1004_normal_masks\\\\')\n",
    "print(len(file_list))"
   ]
  },
  {
   "cell_type": "code",
   "execution_count": 11,
   "id": "2c23e73c92535f2d",
   "metadata": {
    "ExecuteTime": {
     "end_time": "2023-10-03T07:59:17.502835100Z",
     "start_time": "2023-10-03T07:59:10.742377800Z"
    },
    "collapsed": false
   },
   "outputs": [
    {
     "name": "stdout",
     "output_type": "stream",
     "text": [
      "330\n"
     ]
    }
   ],
   "source": [
    "import shutil\n",
    "now_path = os.getcwd()\n",
    "file_list1 = os.listdir(now_path+'\\\\new_defect_images_bad\\\\')\n",
    "file_list = os.listdir(now_path+'\\\\new_masks_sum\\\\')\n",
    "#print(file_list)\n",
    "print(len(file_list))\n",
    "sum = 0\n",
    "while sum <= 6790:\n",
    "    for i, file_name in enumerate(file_list):\n",
    "        shutil.copyfile(now_path+'\\\\new_masks_sum\\\\'+file_name,now_path+'\\\\new_defect_masks_bad\\\\'+'normal_'+str(i+sum).zfill(4)+'.png')\n",
    "    sum += 330    "
   ]
  },
  {
   "cell_type": "code",
   "execution_count": null,
   "id": "476876261bd8b8d1",
   "metadata": {
    "collapsed": false
   },
   "outputs": [],
   "source": [
    "import shutil\n",
    "now_path = os.getcwd()\n",
    "file_list1 = os.listdir(now_path+'\\\\defect_masks_sum\\\\')\n",
    "file_list = os.listdir(now_path+'\\\\new_masks_sum\\\\')\n",
    "#print(file_list)\n",
    "print(len(file_list))\n",
    "sum = 0\n",
    "while sum <= 6790:\n",
    "    for i, file_name in enumerate(file_list):\n",
    "        shutil.copyfile(now_path+'\\\\new_masks_sum\\\\'+file_name,now_path+'\\\\new_defect_masks_bad\\\\'+'normal_'+str(i+sum).zfill(4)+'.png')\n",
    "    sum += 330    "
   ]
  },
  {
   "cell_type": "code",
   "execution_count": null,
   "id": "3b460ec7b65ca767",
   "metadata": {
    "collapsed": false
   },
   "outputs": [],
   "source": [
    "import multiprocessing as mp\n",
    "mp.get_start_method(\"spawn\")\n",
    "\n",
    "#150개불러옴\n",
    "#150개 대체\n",
    "#for 문으로 6930개까지\n",
    "import cv2\n",
    "import numpy as np\n",
    "import os\n",
    "now_path = os.getcwd()\n",
    "\n",
    "\n",
    "path_normal = '//normal_images//'\n",
    "file_list = os.listdir(now_path+path_normal)\n",
    "print(len(file_list))\n",
    "iters = len(file_list)\n",
    "for i, file_name in enumerate(file_list):\n",
    "    # 원본 이미지 로드\n",
    "    path_defect = '//defect_images_sum//'\n",
    "    original_image = cv2.imread(now_path+path_defect+'defect_'+str(i%150)+'.png')\n",
    "    \n",
    "    # 마스크 이미지 로드\n",
    "    path_mask = '//new_masks_sum//'\n",
    "    mask_image = cv2.imread(now_path+path_mask+'defect_'+str(i%150)+'.png', cv2.IMREAD_GRAYSCALE)  # 이진 이미지로 로드\n",
    "    # \n",
    "    # # 이진 마스크 생성 (0이 아닌 값은 1로 설정)\n",
    "    # binary_mask = (mask_image != 0)\n",
    "    # \n",
    "    # # 대체하려는 영역 선택\n",
    "    replacement_image = cv2.imread(now_path+path_normal+file_name)  # 대체할 이미지 로드\n",
    "    replacement_image = cv2.resize(replacement_image, (mask_image.shape[1], mask_image.shape[0]))  # 크기 조정\n",
    "\n",
    "    # # 대체 영역 선택\n",
    "    # selected_region = cv2.bitwise_and(original_image, original_image, mask=binary_mask)\n",
    "    # \n",
    "    # 대체 이미지를 대체 영역으로 설정\n",
    "    result = original_image.copy()\n",
    "    result[mask_image == 0] = replacement_image[mask_image == 0]\n",
    "    # 결과 이미지 표시 또는 저장\n",
    "    cv2.imwrite('new_defect_images_good//'+'defect_'+str(i).zfill(4)+'.png', result)\n",
    "    if i == 1000 :\n",
    "        print(\"1000\")\n",
    "    elif i == 3000:\n",
    "        print(\"3000\")\n",
    "    elif i == 5000:\n",
    "        print(\"5000\")\n",
    "#cv2.imshow('Result', result)#\n",
    "\n",
    "#cv2.waitKey(0)\n",
    "#cv2.destroyAllWindows()\n",
    "\n"
   ]
  },
  {
   "cell_type": "code",
   "execution_count": 2,
   "id": "9a7e3e77",
   "metadata": {},
   "outputs": [
    {
     "name": "stdout",
     "output_type": "stream",
     "text": [
      "/home/cora3/anomalib/notebooks/900_my_created\n"
     ]
    }
   ],
   "source": [
    "import cv2\n",
    "import numpy as np\n",
    "import os\n",
    "\n",
    "now_path = os.getcwd()\n",
    "print(now_path)"
   ]
  },
  {
   "cell_type": "code",
   "execution_count": null,
   "id": "4aa58abd",
   "metadata": {},
   "outputs": [],
   "source": [
    "import cv2\n",
    "import numpy as np\n",
    "import os\n",
    "\n",
    "now_path = '//home//cora3//anomalib'\n",
    "path_normal = '//normal_images//'\n",
    "path_defect = '//defect_1004//'\n",
    "path_mask = '//defect_1004_realmask//'\n",
    "output_path = '//defect_1004_natural//'  # 결과 이미지 저장 경로\n",
    "\n",
    "# 파일 목록 가져오기\n",
    "file_list = os.listdir(now_path + path_normal)\n",
    "num_files = len(file_list)\n",
    "\n",
    "for i in range(num_files):\n",
    "    # 원본 이미지 로드\n",
    "    original_image = cv2.imread(now_path + path_defect + 'defect_' + str(i % 180).zfill(4) + '.png')\n",
    "\n",
    "    # 마스크 이미지 로드 및 이진화\n",
    "    mask_image = cv2.imread(now_path + path_mask + 'defect_' + str(i % 180).zfill(4) + '.png', cv2.IMREAD_GRAYSCALE)\n",
    "    binary_mask = (mask_image != 0)\n",
    "\n",
    "    # 대체 이미지 로드\n",
    "    replacement_image = cv2.imread(now_path + path_normal + file_list[i])\n",
    "\n",
    "    # 이미지 크기를 원본 이미지와 동일하게 조정\n",
    "    replacement_image = cv2.resize(replacement_image, (original_image.shape[1], original_image.shape[0]))\n",
    "\n",
    "    # 알파 블렌딩을 사용하여 이미지를 합성\n",
    "    alpha = 0.7  # 알파 값 (가중치)\n",
    "    blended_image = cv2.addWeighted(original_image, alpha, replacement_image, 1 - alpha, 0)\n",
    "\n",
    "    # 마스크를 적용하여 대체 영역만 합성\n",
    "    result = original_image.copy()\n",
    "    result[binary_mask] = blended_image[binary_mask]\n",
    "\n",
    "    # 결과 이미지 저장\n",
    "    output_file_path = os.path.join(output_path, 'defect_' + str(i).zfill(4) + '.png')\n",
    "    cv2.imwrite(output_file_path, result)\n",
    "\n",
    "print(\"이미지 합성이 완료되었습니다.\")\n"
   ]
  }
 ],
 "metadata": {
  "kernelspec": {
   "display_name": "Python 3",
   "language": "python",
   "name": "python3"
  },
  "language_info": {
   "codemirror_mode": {
    "name": "ipython",
    "version": 3
   },
   "file_extension": ".py",
   "mimetype": "text/x-python",
   "name": "python",
   "nbconvert_exporter": "python",
   "pygments_lexer": "ipython3",
   "version": "3.10.13"
  }
 },
 "nbformat": 4,
 "nbformat_minor": 5
}
